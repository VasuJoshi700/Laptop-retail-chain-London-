{
 "cells": [
  {
   "cell_type": "code",
   "execution_count": 1,
   "metadata": {},
   "outputs": [],
   "source": [
    "import os \n",
    "import pandas as pd\n",
    "import numpy as np\n",
    "import matplotlib.pyplot as plt"
   ]
  },
  {
   "cell_type": "code",
   "execution_count": 2,
   "metadata": {},
   "outputs": [],
   "source": [
    "os.chdir(r\"F:\\python\\Surprise\")"
   ]
  },
  {
   "cell_type": "code",
   "execution_count": 3,
   "metadata": {},
   "outputs": [
    {
     "data": {
      "text/plain": [
       "['.ipynb_checkpoints',\n",
       " 'comqt.csv',\n",
       " 'con_lap.csv',\n",
       " 'entire_data.csv',\n",
       " 'Laptop.csv',\n",
       " 'Laptops.csv',\n",
       " 'London_postal_codes.csv',\n",
       " 'Master Case Study-2.pdf',\n",
       " 'pos comb.csv',\n",
       " 'POS_Q1 (Autosaved).csv',\n",
       " 'POS_Q1.csv',\n",
       " 'POS_Q2.csv',\n",
       " 'POS_Q3.csv',\n",
       " 'POS_Q4.csv',\n",
       " 'quters',\n",
       " 'solution.ipynb',\n",
       " 'Store_Locations.csv']"
      ]
     },
     "execution_count": 3,
     "metadata": {},
     "output_type": "execute_result"
    }
   ],
   "source": [
    "os.listdir()"
   ]
  },
  {
   "cell_type": "code",
   "execution_count": 4,
   "metadata": {},
   "outputs": [],
   "source": [
    "pos1=pd.read_csv(r\"POS_Q1.csv\")"
   ]
  },
  {
   "cell_type": "code",
   "execution_count": 5,
   "metadata": {},
   "outputs": [],
   "source": [
    "pos2=pd.read_csv(r'POS_Q2.csv')"
   ]
  },
  {
   "cell_type": "code",
   "execution_count": 6,
   "metadata": {},
   "outputs": [],
   "source": [
    "pos3=pd.read_csv(r'POS_Q3.csv')"
   ]
  },
  {
   "cell_type": "code",
   "execution_count": 7,
   "metadata": {},
   "outputs": [],
   "source": [
    "pos4=pd.read_csv(r'POS_Q4.csv')"
   ]
  },
  {
   "cell_type": "code",
   "execution_count": 8,
   "metadata": {},
   "outputs": [],
   "source": [
    "store_loc=pd.read_csv(r'Store_Locations.csv')"
   ]
  },
  {
   "cell_type": "code",
   "execution_count": 9,
   "metadata": {},
   "outputs": [],
   "source": [
    "lap=pd.read_csv(r'Laptop.csv')"
   ]
  },
  {
   "cell_type": "code",
   "execution_count": 10,
   "metadata": {},
   "outputs": [],
   "source": [
    "lp_code=pd.read_csv(r'London_postal_codes.csv')"
   ]
  },
  {
   "cell_type": "code",
   "execution_count": 11,
   "metadata": {},
   "outputs": [
    {
     "data": {
      "text/plain": [
       "Index(['Date', 'Configuration', 'Customer Postcode', 'Store Postcode',\n",
       "       'Retail Price', 'month'],\n",
       "      dtype='object')"
      ]
     },
     "execution_count": 11,
     "metadata": {},
     "output_type": "execute_result"
    }
   ],
   "source": [
    "pos1.columns"
   ]
  },
  {
   "cell_type": "code",
   "execution_count": 12,
   "metadata": {},
   "outputs": [],
   "source": [
    "# pos1[[\"Retail Price\"]].mean()"
   ]
  },
  {
   "cell_type": "code",
   "execution_count": 13,
   "metadata": {},
   "outputs": [],
   "source": [
    "# pos2[[\"Retail Price\"]].mean()"
   ]
  },
  {
   "cell_type": "code",
   "execution_count": 14,
   "metadata": {},
   "outputs": [],
   "source": [
    "# pos3[[\"Retail Price\"]].mean()"
   ]
  },
  {
   "cell_type": "code",
   "execution_count": 15,
   "metadata": {},
   "outputs": [],
   "source": [
    "# pos4[[\"Retail Price\"]].mean()"
   ]
  },
  {
   "cell_type": "code",
   "execution_count": 16,
   "metadata": {},
   "outputs": [],
   "source": [
    "com_qt2=pos1.append(pos2)"
   ]
  },
  {
   "cell_type": "code",
   "execution_count": 17,
   "metadata": {},
   "outputs": [],
   "source": [
    "# val=[486.23,486.22,518.24,498.94]\n",
    "# qrt=[\"q1\",\"q2\",\"q3\",\"q4\"]"
   ]
  },
  {
   "cell_type": "code",
   "execution_count": 18,
   "metadata": {},
   "outputs": [],
   "source": [
    "comqt3=com_qt2.append(pos3)"
   ]
  },
  {
   "cell_type": "code",
   "execution_count": 19,
   "metadata": {},
   "outputs": [],
   "source": [
    "comqt=comqt3.append(pos4)"
   ]
  },
  {
   "cell_type": "code",
   "execution_count": null,
   "metadata": {},
   "outputs": [],
   "source": []
  },
  {
   "cell_type": "markdown",
   "metadata": {},
   "source": [
    "# qestion_1 Pricing"
   ]
  },
  {
   "cell_type": "markdown",
   "metadata": {},
   "source": [
    "### A"
   ]
  },
  {
   "cell_type": "code",
   "execution_count": 20,
   "metadata": {},
   "outputs": [],
   "source": [
    "qts=comqt.groupby([\"month\"]).agg({\"Retail Price\":[\"mean\"]})"
   ]
  },
  {
   "cell_type": "code",
   "execution_count": 21,
   "metadata": {},
   "outputs": [
    {
     "data": {
      "image/png": "[encoded data removed]",
      "text/plain": [
       "<Figure size 720x432 with 1 Axes>"
      ]
     },
     "metadata": {
      "needs_background": "light"
     },
     "output_type": "display_data"
    }
   ],
   "source": [
    "plt.figure(figsize=(10,6))\n",
    "plt.plot(qts)\n",
    "plt.xlabel(\"months\",fontsize=25)\n",
    "plt.ylabel(\"price\",fontsize=25)\n",
    "\n",
    "plt.show()\n"
   ]
  },
  {
   "cell_type": "markdown",
   "metadata": {},
   "source": [
    "# In above figure  we can analyse that initially pricies are declining from the begining of the year  to the march, \n",
    "# after the month of march they are exponentially rising and reached their peak at the 7th month.\n",
    "# After the 7th month prices have been declined till the end of the year."
   ]
  },
  {
   "cell_type": "markdown",
   "metadata": {},
   "source": [
    "### B"
   ]
  },
  {
   "cell_type": "code",
   "execution_count": 22,
   "metadata": {},
   "outputs": [
    {
     "data": {
      "text/html": [
       "<div>\n",
       "<style scoped>\n",
       "    .dataframe tbody tr th:only-of-type {\n",
       "        vertical-align: middle;\n",
       "    }\n",
       "\n",
       "    .dataframe tbody tr th {\n",
       "        vertical-align: top;\n",
       "    }\n",
       "\n",
       "    .dataframe thead th {\n",
       "        text-align: right;\n",
       "    }\n",
       "</style>\n",
       "<table border=\"1\" class=\"dataframe\">\n",
       "  <thead>\n",
       "    <tr style=\"text-align: right;\">\n",
       "      <th></th>\n",
       "      <th>Postcode</th>\n",
       "      <th>OS X</th>\n",
       "      <th>OS Y</th>\n",
       "      <th>Lat</th>\n",
       "      <th>Long</th>\n",
       "    </tr>\n",
       "  </thead>\n",
       "  <tbody>\n",
       "    <tr>\n",
       "      <th>0</th>\n",
       "      <td>CR7 8LE</td>\n",
       "      <td>532714</td>\n",
       "      <td>168302</td>\n",
       "      <td>51.398236</td>\n",
       "      <td>-0.093658</td>\n",
       "    </tr>\n",
       "    <tr>\n",
       "      <th>1</th>\n",
       "      <td>E2 0RY</td>\n",
       "      <td>535652</td>\n",
       "      <td>182961</td>\n",
       "      <td>51.529272</td>\n",
       "      <td>-0.045831</td>\n",
       "    </tr>\n",
       "    <tr>\n",
       "      <th>2</th>\n",
       "      <td>E7 8NW</td>\n",
       "      <td>541428</td>\n",
       "      <td>184515</td>\n",
       "      <td>51.541820</td>\n",
       "      <td>0.038004</td>\n",
       "    </tr>\n",
       "    <tr>\n",
       "      <th>3</th>\n",
       "      <td>KT2 5AU</td>\n",
       "      <td>517917</td>\n",
       "      <td>170243</td>\n",
       "      <td>51.418947</td>\n",
       "      <td>-0.305610</td>\n",
       "    </tr>\n",
       "    <tr>\n",
       "      <th>4</th>\n",
       "      <td>N17 6QA</td>\n",
       "      <td>533788</td>\n",
       "      <td>189994</td>\n",
       "      <td>51.593024</td>\n",
       "      <td>-0.069979</td>\n",
       "    </tr>\n",
       "    <tr>\n",
       "      <th>5</th>\n",
       "      <td>N3 1DH</td>\n",
       "      <td>525109</td>\n",
       "      <td>190628</td>\n",
       "      <td>51.600873</td>\n",
       "      <td>-0.194738</td>\n",
       "    </tr>\n",
       "    <tr>\n",
       "      <th>6</th>\n",
       "      <td>NW5 2QH</td>\n",
       "      <td>529248</td>\n",
       "      <td>185213</td>\n",
       "      <td>51.551011</td>\n",
       "      <td>-0.137272</td>\n",
       "    </tr>\n",
       "    <tr>\n",
       "      <th>7</th>\n",
       "      <td>SE1 2BN</td>\n",
       "      <td>534057</td>\n",
       "      <td>179682</td>\n",
       "      <td>51.500186</td>\n",
       "      <td>-0.070057</td>\n",
       "    </tr>\n",
       "    <tr>\n",
       "      <th>8</th>\n",
       "      <td>SE8 3JD</td>\n",
       "      <td>537175</td>\n",
       "      <td>177885</td>\n",
       "      <td>51.483291</td>\n",
       "      <td>-0.025862</td>\n",
       "    </tr>\n",
       "    <tr>\n",
       "      <th>9</th>\n",
       "      <td>SW12 9HD</td>\n",
       "      <td>528739</td>\n",
       "      <td>173080</td>\n",
       "      <td>51.442091</td>\n",
       "      <td>-0.149031</td>\n",
       "    </tr>\n",
       "    <tr>\n",
       "      <th>10</th>\n",
       "      <td>SW18 1NN</td>\n",
       "      <td>525155</td>\n",
       "      <td>175180</td>\n",
       "      <td>51.461766</td>\n",
       "      <td>-0.199829</td>\n",
       "    </tr>\n",
       "    <tr>\n",
       "      <th>11</th>\n",
       "      <td>SW1P 3AU</td>\n",
       "      <td>529902</td>\n",
       "      <td>179641</td>\n",
       "      <td>51.455029</td>\n",
       "      <td>-0.231602</td>\n",
       "    </tr>\n",
       "    <tr>\n",
       "      <th>12</th>\n",
       "      <td>SW1V 4QQ</td>\n",
       "      <td>528924</td>\n",
       "      <td>178440</td>\n",
       "      <td>51.490218</td>\n",
       "      <td>-0.144418</td>\n",
       "    </tr>\n",
       "    <tr>\n",
       "      <th>13</th>\n",
       "      <td>W10 6HQ</td>\n",
       "      <td>524190</td>\n",
       "      <td>181567</td>\n",
       "      <td>51.519379</td>\n",
       "      <td>-0.211468</td>\n",
       "    </tr>\n",
       "    <tr>\n",
       "      <th>14</th>\n",
       "      <td>W4 3PH</td>\n",
       "      <td>519585</td>\n",
       "      <td>177640</td>\n",
       "      <td>51.485079</td>\n",
       "      <td>-0.279136</td>\n",
       "    </tr>\n",
       "  </tbody>\n",
       "</table>\n",
       "</div>"
      ],
      "text/plain": [
       "    Postcode    OS X    OS Y        Lat      Long\n",
       "0    CR7 8LE  532714  168302  51.398236 -0.093658\n",
       "1     E2 0RY  535652  182961  51.529272 -0.045831\n",
       "2     E7 8NW  541428  184515  51.541820  0.038004\n",
       "3    KT2 5AU  517917  170243  51.418947 -0.305610\n",
       "4    N17 6QA  533788  189994  51.593024 -0.069979\n",
       "5     N3 1DH  525109  190628  51.600873 -0.194738\n",
       "6    NW5 2QH  529248  185213  51.551011 -0.137272\n",
       "7    SE1 2BN  534057  179682  51.500186 -0.070057\n",
       "8    SE8 3JD  537175  177885  51.483291 -0.025862\n",
       "9   SW12 9HD  528739  173080  51.442091 -0.149031\n",
       "10  SW18 1NN  525155  175180  51.461766 -0.199829\n",
       "11  SW1P 3AU  529902  179641  51.455029 -0.231602\n",
       "12  SW1V 4QQ  528924  178440  51.490218 -0.144418\n",
       "13   W10 6HQ  524190  181567  51.519379 -0.211468\n",
       "14    W4 3PH  519585  177640  51.485079 -0.279136"
      ]
     },
     "execution_count": 22,
     "metadata": {},
     "output_type": "execute_result"
    }
   ],
   "source": [
    "store_loc"
   ]
  },
  {
   "cell_type": "code",
   "execution_count": 23,
   "metadata": {},
   "outputs": [],
   "source": [
    "x=comqt.pivot_table(index=[\"Store Postcode\"],values=\"Retail Price\")\n"
   ]
  },
  {
   "cell_type": "code",
   "execution_count": 24,
   "metadata": {},
   "outputs": [],
   "source": [
    "xy=x.reset_index()"
   ]
  },
  {
   "cell_type": "code",
   "execution_count": 25,
   "metadata": {},
   "outputs": [
    {
     "data": {
      "image/png": "[encoded data removed]",
      "text/plain": [
       "<Figure size 1440x720 with 1 Axes>"
      ]
     },
     "metadata": {
      "needs_background": "light"
     },
     "output_type": "display_data"
    }
   ],
   "source": [
    "plt.figure(figsize=(20,10))\n",
    "plt.bar(xy[\"Store Postcode\"],xy[\"Retail Price\"])\n",
    "plt.xlabel(\"stores\",fontsize=(25))\n",
    "plt.ylabel(\"price\",fontsize=(25))\n",
    "plt.show()"
   ]
  },
  {
   "cell_type": "markdown",
   "metadata": {},
   "source": [
    "### we can see in above figure that prices are consistent at almost every store postcode, although there are very little fluctuations in prices. "
   ]
  },
  {
   "cell_type": "markdown",
   "metadata": {},
   "source": [
    "### C"
   ]
  },
  {
   "cell_type": "code",
   "execution_count": 26,
   "metadata": {},
   "outputs": [],
   "source": [
    "x=comqt.pivot_table(index=[\"Configuration\"],values=\"Retail Price\")"
   ]
  },
  {
   "cell_type": "code",
   "execution_count": 27,
   "metadata": {},
   "outputs": [
    {
     "data": {
      "text/html": [
       "<div>\n",
       "<style scoped>\n",
       "    .dataframe tbody tr th:only-of-type {\n",
       "        vertical-align: middle;\n",
       "    }\n",
       "\n",
       "    .dataframe tbody tr th {\n",
       "        vertical-align: top;\n",
       "    }\n",
       "\n",
       "    .dataframe thead th {\n",
       "        text-align: right;\n",
       "    }\n",
       "</style>\n",
       "<table border=\"1\" class=\"dataframe\">\n",
       "  <thead>\n",
       "    <tr style=\"text-align: right;\">\n",
       "      <th></th>\n",
       "      <th>Retail Price</th>\n",
       "    </tr>\n",
       "    <tr>\n",
       "      <th>Configuration</th>\n",
       "      <th></th>\n",
       "    </tr>\n",
       "  </thead>\n",
       "  <tbody>\n",
       "    <tr>\n",
       "      <th>1</th>\n",
       "      <td>332.347744</td>\n",
       "    </tr>\n",
       "    <tr>\n",
       "      <th>2</th>\n",
       "      <td>284.988189</td>\n",
       "    </tr>\n",
       "    <tr>\n",
       "      <th>3</th>\n",
       "      <td>372.306569</td>\n",
       "    </tr>\n",
       "    <tr>\n",
       "      <th>4</th>\n",
       "      <td>323.209738</td>\n",
       "    </tr>\n",
       "    <tr>\n",
       "      <th>5</th>\n",
       "      <td>385.290323</td>\n",
       "    </tr>\n",
       "    <tr>\n",
       "      <th>...</th>\n",
       "      <td>...</td>\n",
       "    </tr>\n",
       "    <tr>\n",
       "      <th>860</th>\n",
       "      <td>711.745455</td>\n",
       "    </tr>\n",
       "    <tr>\n",
       "      <th>861</th>\n",
       "      <td>778.366864</td>\n",
       "    </tr>\n",
       "    <tr>\n",
       "      <th>862</th>\n",
       "      <td>725.220339</td>\n",
       "    </tr>\n",
       "    <tr>\n",
       "      <th>863</th>\n",
       "      <td>834.409091</td>\n",
       "    </tr>\n",
       "    <tr>\n",
       "      <th>864</th>\n",
       "      <td>790.038462</td>\n",
       "    </tr>\n",
       "  </tbody>\n",
       "</table>\n",
       "<p>864 rows × 1 columns</p>\n",
       "</div>"
      ],
      "text/plain": [
       "               Retail Price\n",
       "Configuration              \n",
       "1                332.347744\n",
       "2                284.988189\n",
       "3                372.306569\n",
       "4                323.209738\n",
       "5                385.290323\n",
       "...                     ...\n",
       "860              711.745455\n",
       "861              778.366864\n",
       "862              725.220339\n",
       "863              834.409091\n",
       "864              790.038462\n",
       "\n",
       "[864 rows x 1 columns]"
      ]
     },
     "execution_count": 27,
     "metadata": {},
     "output_type": "execute_result"
    }
   ],
   "source": [
    "x"
   ]
  },
  {
   "cell_type": "code",
   "execution_count": 28,
   "metadata": {},
   "outputs": [],
   "source": [
    "res=x.reset_index()"
   ]
  },
  {
   "cell_type": "code",
   "execution_count": 29,
   "metadata": {},
   "outputs": [
    {
     "data": {
      "image/png": "[encoded data removed]",
      "text/plain": [
       "<Figure size 1296x720 with 1 Axes>"
      ]
     },
     "metadata": {
      "needs_background": "light"
     },
     "output_type": "display_data"
    }
   ],
   "source": [
    "plt.figure(figsize=(18,10))\n",
    "plt.bar(res[\"Retail Price\"],res[\"Configuration\"])\n",
    "# plt.xlabel(\"price\",fontsize=10)\n",
    "# plt.ylabel(\"config\",fontsize=10)\n",
    "plt.show()\n",
    "\n",
    "# res=res.plot(figsize=(8,8),kind=\"bar\")\n",
    "# res.set_xlabel(\"price\")\n",
    "# res.set_ylabel(\"Configuration\")\n"
   ]
  },
  {
   "cell_type": "markdown",
   "metadata": {},
   "source": [
    "## In the given graphical fig we are getting that there is mostly positive pattern between price and configuration to certain level,\n",
    "## after passing that certain level relation between price and configuration getting a curve and goes in straight horizontal way."
   ]
  },
  {
   "cell_type": "markdown",
   "metadata": {},
   "source": [
    "# question2 stores"
   ]
  },
  {
   "cell_type": "markdown",
   "metadata": {},
   "source": [
    "# Q1"
   ]
  },
  {
   "cell_type": "code",
   "execution_count": 30,
   "metadata": {},
   "outputs": [
    {
     "name": "stderr",
     "output_type": "stream",
     "text": [
      "F:\\conda\\lib\\site-packages\\IPython\\core\\interactiveshell.py:3063: DtypeWarning: Columns (1) have mixed types.Specify dtype option on import or set low_memory=False.\n",
      "  interactivity=interactivity, compiler=compiler, result=result)\n"
     ]
    },
    {
     "data": {
      "text/html": [
       "<div>\n",
       "<style scoped>\n",
       "    .dataframe tbody tr th:only-of-type {\n",
       "        vertical-align: middle;\n",
       "    }\n",
       "\n",
       "    .dataframe tbody tr th {\n",
       "        vertical-align: top;\n",
       "    }\n",
       "\n",
       "    .dataframe thead th {\n",
       "        text-align: right;\n",
       "    }\n",
       "</style>\n",
       "<table border=\"1\" class=\"dataframe\">\n",
       "  <thead>\n",
       "    <tr style=\"text-align: right;\">\n",
       "      <th></th>\n",
       "      <th>postx</th>\n",
       "      <th>posty</th>\n",
       "    </tr>\n",
       "  </thead>\n",
       "  <tbody>\n",
       "    <tr>\n",
       "      <th>0</th>\n",
       "      <td>532041</td>\n",
       "      <td>180995</td>\n",
       "    </tr>\n",
       "    <tr>\n",
       "      <th>1</th>\n",
       "      <td>529240</td>\n",
       "      <td>175537</td>\n",
       "    </tr>\n",
       "    <tr>\n",
       "      <th>2</th>\n",
       "      <td>533095</td>\n",
       "      <td>181047</td>\n",
       "    </tr>\n",
       "    <tr>\n",
       "      <th>3</th>\n",
       "      <td>529902</td>\n",
       "      <td>179641</td>\n",
       "    </tr>\n",
       "    <tr>\n",
       "      <th>4</th>\n",
       "      <td>531684</td>\n",
       "      <td>180948</td>\n",
       "    </tr>\n",
       "    <tr>\n",
       "      <th>...</th>\n",
       "      <td>...</td>\n",
       "      <td>...</td>\n",
       "    </tr>\n",
       "    <tr>\n",
       "      <th>297567</th>\n",
       "      <td>533595</td>\n",
       "      <td>180025</td>\n",
       "    </tr>\n",
       "    <tr>\n",
       "      <th>297568</th>\n",
       "      <td>531165</td>\n",
       "      <td>192973</td>\n",
       "    </tr>\n",
       "    <tr>\n",
       "      <th>297569</th>\n",
       "      <td>534086</td>\n",
       "      <td>168521</td>\n",
       "    </tr>\n",
       "    <tr>\n",
       "      <th>297570</th>\n",
       "      <td>530716</td>\n",
       "      <td>177488</td>\n",
       "    </tr>\n",
       "    <tr>\n",
       "      <th>297571</th>\n",
       "      <td>534348</td>\n",
       "      <td>179162</td>\n",
       "    </tr>\n",
       "  </tbody>\n",
       "</table>\n",
       "<p>297572 rows × 2 columns</p>\n",
       "</div>"
      ],
      "text/plain": [
       "         postx   posty\n",
       "0       532041  180995\n",
       "1       529240  175537\n",
       "2       533095  181047\n",
       "3       529902  179641\n",
       "4       531684  180948\n",
       "...        ...     ...\n",
       "297567  533595  180025\n",
       "297568  531165  192973\n",
       "297569  534086  168521\n",
       "297570  530716  177488\n",
       "297571  534348  179162\n",
       "\n",
       "[297572 rows x 2 columns]"
      ]
     },
     "execution_count": 30,
     "metadata": {},
     "output_type": "execute_result"
    }
   ],
   "source": [
    "pos=pd.read_csv(r'pos comb.csv')\n",
    "pos[[\"postx\",\"posty\"]]"
   ]
  },
  {
   "cell_type": "code",
   "execution_count": null,
   "metadata": {},
   "outputs": [],
   "source": []
  },
  {
   "cell_type": "markdown",
   "metadata": {},
   "source": [
    "### these are the locations where cutomer are located"
   ]
  },
  {
   "cell_type": "code",
   "execution_count": 31,
   "metadata": {},
   "outputs": [
    {
     "data": {
      "text/html": [
       "<div>\n",
       "<style scoped>\n",
       "    .dataframe tbody tr th:only-of-type {\n",
       "        vertical-align: middle;\n",
       "    }\n",
       "\n",
       "    .dataframe tbody tr th {\n",
       "        vertical-align: top;\n",
       "    }\n",
       "\n",
       "    .dataframe thead th {\n",
       "        text-align: right;\n",
       "    }\n",
       "</style>\n",
       "<table border=\"1\" class=\"dataframe\">\n",
       "  <thead>\n",
       "    <tr style=\"text-align: right;\">\n",
       "      <th></th>\n",
       "      <th>x</th>\n",
       "      <th>y</th>\n",
       "    </tr>\n",
       "  </thead>\n",
       "  <tbody>\n",
       "    <tr>\n",
       "      <th>0</th>\n",
       "      <td>534057</td>\n",
       "      <td>179682</td>\n",
       "    </tr>\n",
       "    <tr>\n",
       "      <th>1</th>\n",
       "      <td>528739</td>\n",
       "      <td>173080</td>\n",
       "    </tr>\n",
       "    <tr>\n",
       "      <th>2</th>\n",
       "      <td>535652</td>\n",
       "      <td>182961</td>\n",
       "    </tr>\n",
       "    <tr>\n",
       "      <th>3</th>\n",
       "      <td>534057</td>\n",
       "      <td>179682</td>\n",
       "    </tr>\n",
       "    <tr>\n",
       "      <th>4</th>\n",
       "      <td>528924</td>\n",
       "      <td>178440</td>\n",
       "    </tr>\n",
       "    <tr>\n",
       "      <th>...</th>\n",
       "      <td>...</td>\n",
       "      <td>...</td>\n",
       "    </tr>\n",
       "    <tr>\n",
       "      <th>297567</th>\n",
       "      <td>529902</td>\n",
       "      <td>179641</td>\n",
       "    </tr>\n",
       "    <tr>\n",
       "      <th>297568</th>\n",
       "      <td>525109</td>\n",
       "      <td>190628</td>\n",
       "    </tr>\n",
       "    <tr>\n",
       "      <th>297569</th>\n",
       "      <td>532714</td>\n",
       "      <td>168302</td>\n",
       "    </tr>\n",
       "    <tr>\n",
       "      <th>297570</th>\n",
       "      <td>529902</td>\n",
       "      <td>179641</td>\n",
       "    </tr>\n",
       "    <tr>\n",
       "      <th>297571</th>\n",
       "      <td>537175</td>\n",
       "      <td>177885</td>\n",
       "    </tr>\n",
       "  </tbody>\n",
       "</table>\n",
       "<p>297572 rows × 2 columns</p>\n",
       "</div>"
      ],
      "text/plain": [
       "             x       y\n",
       "0       534057  179682\n",
       "1       528739  173080\n",
       "2       535652  182961\n",
       "3       534057  179682\n",
       "4       528924  178440\n",
       "...        ...     ...\n",
       "297567  529902  179641\n",
       "297568  525109  190628\n",
       "297569  532714  168302\n",
       "297570  529902  179641\n",
       "297571  537175  177885\n",
       "\n",
       "[297572 rows x 2 columns]"
      ]
     },
     "execution_count": 31,
     "metadata": {},
     "output_type": "execute_result"
    }
   ],
   "source": [
    "pos[[\"x\",\"y\"]]"
   ]
  },
  {
   "cell_type": "markdown",
   "metadata": {},
   "source": [
    "### these are the locations where stores are located"
   ]
  },
  {
   "cell_type": "code",
   "execution_count": 32,
   "metadata": {},
   "outputs": [],
   "source": [
    "# lap_join=pd.merge(comqt,lap, on=\"Configuration\",how=\"left\")"
   ]
  },
  {
   "cell_type": "code",
   "execution_count": null,
   "metadata": {},
   "outputs": [],
   "source": []
  },
  {
   "cell_type": "code",
   "execution_count": 33,
   "metadata": {},
   "outputs": [],
   "source": [
    "# vis=lap_join.pivot_table(index=[\"Configuration\"],values=\"Retail Price\")"
   ]
  },
  {
   "cell_type": "code",
   "execution_count": 34,
   "metadata": {},
   "outputs": [],
   "source": [
    "# vis=vis.reset_index()"
   ]
  },
  {
   "cell_type": "code",
   "execution_count": 35,
   "metadata": {},
   "outputs": [],
   "source": [
    "# plt.bar(vis['Retail Price'],vis[\"Configuration\"])\n",
    "# plt.show()"
   ]
  },
  {
   "cell_type": "code",
   "execution_count": null,
   "metadata": {},
   "outputs": [],
   "source": []
  },
  {
   "cell_type": "code",
   "execution_count": 36,
   "metadata": {},
   "outputs": [],
   "source": [
    "# com_lap=pd.merge(comqt,lap,on=\"Configuration\",how=\"inner\")\n"
   ]
  },
  {
   "cell_type": "markdown",
   "metadata": {},
   "source": [
    "### Q 2"
   ]
  },
  {
   "cell_type": "code",
   "execution_count": 37,
   "metadata": {},
   "outputs": [],
   "source": [
    "x=comqt.groupby([\"Store Postcode\"]).count()"
   ]
  },
  {
   "cell_type": "code",
   "execution_count": 38,
   "metadata": {},
   "outputs": [],
   "source": [
    "x=x.reset_index()"
   ]
  },
  {
   "cell_type": "code",
   "execution_count": 39,
   "metadata": {},
   "outputs": [
    {
     "data": {
      "image/png": "[encoded data removed]",
      "text/plain": [
       "<Figure size 1440x432 with 1 Axes>"
      ]
     },
     "metadata": {
      "needs_background": "light"
     },
     "output_type": "display_data"
    }
   ],
   "source": [
    "plt.figure(figsize=(20,6))\n",
    "plt.bar(x[\"Store Postcode\"],x[\"Configuration\"])\n",
    "plt.show()"
   ]
  },
  {
   "cell_type": "code",
   "execution_count": 77,
   "metadata": {},
   "outputs": [],
   "source": [
    "# con = x.plot(figsize=(8,8))\n",
    "# con.set_xlabel(\"Stores\")\n",
    "# con.set_ylabel(\"Sales\")\n",
    "# plt.show()\n"
   ]
  },
  {
   "cell_type": "markdown",
   "metadata": {},
   "source": [
    "### Above graph demonstrate  that \"SWIP 3AU\" ,\"E2 0RY\", \" NW5 2QH\",\"SE1 2BN\", \"SW1V 4QQ\" are selling the most laptop ."
   ]
  },
  {
   "cell_type": "markdown",
   "metadata": {},
   "source": [
    "### Question3"
   ]
  },
  {
   "cell_type": "code",
   "execution_count": 41,
   "metadata": {},
   "outputs": [
    {
     "data": {
      "text/plain": [
       "['.ipynb_checkpoints',\n",
       " 'comqt.csv',\n",
       " 'con_lap.csv',\n",
       " 'entire_data.csv',\n",
       " 'Laptop.csv',\n",
       " 'Laptops.csv',\n",
       " 'London_postal_codes.csv',\n",
       " 'Master Case Study-2.pdf',\n",
       " 'pos comb.csv',\n",
       " 'POS_Q1 (Autosaved).csv',\n",
       " 'POS_Q1.csv',\n",
       " 'POS_Q2.csv',\n",
       " 'POS_Q3.csv',\n",
       " 'POS_Q4.csv',\n",
       " 'quters',\n",
       " 'solution.ipynb',\n",
       " 'Store_Locations.csv']"
      ]
     },
     "execution_count": 41,
     "metadata": {},
     "output_type": "execute_result"
    }
   ],
   "source": [
    "os.listdir()"
   ]
  },
  {
   "cell_type": "code",
   "execution_count": 42,
   "metadata": {},
   "outputs": [
    {
     "name": "stderr",
     "output_type": "stream",
     "text": [
      "F:\\conda\\lib\\site-packages\\IPython\\core\\interactiveshell.py:3063: DtypeWarning: Columns (1) have mixed types.Specify dtype option on import or set low_memory=False.\n",
      "  interactivity=interactivity, compiler=compiler, result=result)\n"
     ]
    }
   ],
   "source": [
    "pos=pd.read_csv(r'pos comb.csv')"
   ]
  },
  {
   "cell_type": "code",
   "execution_count": 43,
   "metadata": {},
   "outputs": [],
   "source": [
    "pos_dis= pos.groupby([\"Customer Postcode\"]).agg({'sqrt':[\"sum\"]})"
   ]
  },
  {
   "cell_type": "code",
   "execution_count": 44,
   "metadata": {},
   "outputs": [
    {
     "data": {
      "text/plain": [
       "sqrt    3687.614658\n",
       "dtype: float64"
      ]
     },
     "execution_count": 44,
     "metadata": {},
     "output_type": "execute_result"
    }
   ],
   "source": [
    "pos[[\"sqrt\"]].mean()"
   ]
  },
  {
   "cell_type": "code",
   "execution_count": 45,
   "metadata": {},
   "outputs": [],
   "source": [
    "pos_dis=pos_dis.reset_index()"
   ]
  },
  {
   "cell_type": "code",
   "execution_count": 46,
   "metadata": {},
   "outputs": [
    {
     "data": {
      "image/png": "[encoded data removed]",
      "text/plain": [
       "<Figure size 1440x720 with 1 Axes>"
      ]
     },
     "metadata": {
      "needs_background": "light"
     },
     "output_type": "display_data"
    }
   ],
   "source": [
    "plt.figure(figsize=(20,10))\n",
    "plt.plot(pos_dis[\"Customer Postcode\"],pos_dis[\"sqrt\"])\n",
    "plt.show()\n",
    "\n"
   ]
  },
  {
   "cell_type": "markdown",
   "metadata": {},
   "source": [
    "### Above graph shows the total distance travelled by the each customer from different customer post code "
   ]
  },
  {
   "cell_type": "markdown",
   "metadata": {},
   "source": [
    "# Q 3 Configuration"
   ]
  },
  {
   "cell_type": "markdown",
   "metadata": {},
   "source": [
    "### 2"
   ]
  },
  {
   "cell_type": "code",
   "execution_count": 47,
   "metadata": {},
   "outputs": [],
   "source": [
    "x=comqt.groupby([\"Store Postcode\"]).agg({\"Store Postcode\":[\"count\"]})"
   ]
  },
  {
   "cell_type": "code",
   "execution_count": 48,
   "metadata": {},
   "outputs": [],
   "source": [
    "y=comqt.groupby(\"Configuration\").agg({\"Configuration\":[\"count\"]})"
   ]
  },
  {
   "cell_type": "code",
   "execution_count": 49,
   "metadata": {},
   "outputs": [
    {
     "data": {
      "text/html": [
       "<div>\n",
       "<style scoped>\n",
       "    .dataframe tbody tr th:only-of-type {\n",
       "        vertical-align: middle;\n",
       "    }\n",
       "\n",
       "    .dataframe tbody tr th {\n",
       "        vertical-align: top;\n",
       "    }\n",
       "\n",
       "    .dataframe thead tr th {\n",
       "        text-align: left;\n",
       "    }\n",
       "</style>\n",
       "<table border=\"1\" class=\"dataframe\">\n",
       "  <thead>\n",
       "    <tr>\n",
       "      <th></th>\n",
       "      <th colspan=\"2\" halign=\"left\">Store Postcode</th>\n",
       "    </tr>\n",
       "    <tr>\n",
       "      <th></th>\n",
       "      <th></th>\n",
       "      <th>count</th>\n",
       "    </tr>\n",
       "  </thead>\n",
       "  <tbody>\n",
       "    <tr>\n",
       "      <th>0</th>\n",
       "      <td>CR7 8LE</td>\n",
       "      <td>7837</td>\n",
       "    </tr>\n",
       "    <tr>\n",
       "      <th>1</th>\n",
       "      <td>E2 0RY</td>\n",
       "      <td>30707</td>\n",
       "    </tr>\n",
       "    <tr>\n",
       "      <th>2</th>\n",
       "      <td>E7 8NW</td>\n",
       "      <td>3796</td>\n",
       "    </tr>\n",
       "    <tr>\n",
       "      <th>3</th>\n",
       "      <td>KT2 5AU</td>\n",
       "      <td>4337</td>\n",
       "    </tr>\n",
       "    <tr>\n",
       "      <th>4</th>\n",
       "      <td>N17 6QA</td>\n",
       "      <td>4743</td>\n",
       "    </tr>\n",
       "    <tr>\n",
       "      <th>5</th>\n",
       "      <td>N3 1DH</td>\n",
       "      <td>3011</td>\n",
       "    </tr>\n",
       "    <tr>\n",
       "      <th>6</th>\n",
       "      <td>NW5 2QH</td>\n",
       "      <td>31405</td>\n",
       "    </tr>\n",
       "    <tr>\n",
       "      <th>7</th>\n",
       "      <td>S1P 3AU</td>\n",
       "      <td>148</td>\n",
       "    </tr>\n",
       "    <tr>\n",
       "      <th>8</th>\n",
       "      <td>SE1 2BN</td>\n",
       "      <td>44656</td>\n",
       "    </tr>\n",
       "    <tr>\n",
       "      <th>9</th>\n",
       "      <td>SE8 3JD</td>\n",
       "      <td>16595</td>\n",
       "    </tr>\n",
       "    <tr>\n",
       "      <th>10</th>\n",
       "      <td>SW12 9HD</td>\n",
       "      <td>12684</td>\n",
       "    </tr>\n",
       "    <tr>\n",
       "      <th>11</th>\n",
       "      <td>SW18 1NN</td>\n",
       "      <td>14076</td>\n",
       "    </tr>\n",
       "    <tr>\n",
       "      <th>12</th>\n",
       "      <td>SW1P 3AU</td>\n",
       "      <td>61831</td>\n",
       "    </tr>\n",
       "    <tr>\n",
       "      <th>13</th>\n",
       "      <td>SW1V 4QQ</td>\n",
       "      <td>43472</td>\n",
       "    </tr>\n",
       "    <tr>\n",
       "      <th>14</th>\n",
       "      <td>W10 6HQ</td>\n",
       "      <td>11733</td>\n",
       "    </tr>\n",
       "    <tr>\n",
       "      <th>15</th>\n",
       "      <td>W4 3PH</td>\n",
       "      <td>6541</td>\n",
       "    </tr>\n",
       "  </tbody>\n",
       "</table>\n",
       "</div>"
      ],
      "text/plain": [
       "   Store Postcode       \n",
       "                   count\n",
       "0         CR7 8LE   7837\n",
       "1          E2 0RY  30707\n",
       "2          E7 8NW   3796\n",
       "3         KT2 5AU   4337\n",
       "4         N17 6QA   4743\n",
       "5          N3 1DH   3011\n",
       "6         NW5 2QH  31405\n",
       "7         S1P 3AU    148\n",
       "8         SE1 2BN  44656\n",
       "9         SE8 3JD  16595\n",
       "10       SW12 9HD  12684\n",
       "11       SW18 1NN  14076\n",
       "12       SW1P 3AU  61831\n",
       "13       SW1V 4QQ  43472\n",
       "14        W10 6HQ  11733\n",
       "15         W4 3PH   6541"
      ]
     },
     "execution_count": 49,
     "metadata": {},
     "output_type": "execute_result"
    }
   ],
   "source": [
    "x.reset_index()"
   ]
  },
  {
   "cell_type": "code",
   "execution_count": 50,
   "metadata": {},
   "outputs": [
    {
     "data": {
      "text/html": [
       "<div>\n",
       "<style scoped>\n",
       "    .dataframe tbody tr th:only-of-type {\n",
       "        vertical-align: middle;\n",
       "    }\n",
       "\n",
       "    .dataframe tbody tr th {\n",
       "        vertical-align: top;\n",
       "    }\n",
       "\n",
       "    .dataframe thead tr th {\n",
       "        text-align: left;\n",
       "    }\n",
       "</style>\n",
       "<table border=\"1\" class=\"dataframe\">\n",
       "  <thead>\n",
       "    <tr>\n",
       "      <th></th>\n",
       "      <th colspan=\"2\" halign=\"left\">Configuration</th>\n",
       "    </tr>\n",
       "    <tr>\n",
       "      <th></th>\n",
       "      <th></th>\n",
       "      <th>count</th>\n",
       "    </tr>\n",
       "  </thead>\n",
       "  <tbody>\n",
       "    <tr>\n",
       "      <th>0</th>\n",
       "      <td>1</td>\n",
       "      <td>266</td>\n",
       "    </tr>\n",
       "    <tr>\n",
       "      <th>1</th>\n",
       "      <td>2</td>\n",
       "      <td>254</td>\n",
       "    </tr>\n",
       "    <tr>\n",
       "      <th>2</th>\n",
       "      <td>3</td>\n",
       "      <td>274</td>\n",
       "    </tr>\n",
       "    <tr>\n",
       "      <th>3</th>\n",
       "      <td>4</td>\n",
       "      <td>267</td>\n",
       "    </tr>\n",
       "    <tr>\n",
       "      <th>4</th>\n",
       "      <td>5</td>\n",
       "      <td>248</td>\n",
       "    </tr>\n",
       "    <tr>\n",
       "      <th>...</th>\n",
       "      <td>...</td>\n",
       "      <td>...</td>\n",
       "    </tr>\n",
       "    <tr>\n",
       "      <th>859</th>\n",
       "      <td>860</td>\n",
       "      <td>165</td>\n",
       "    </tr>\n",
       "    <tr>\n",
       "      <th>860</th>\n",
       "      <td>861</td>\n",
       "      <td>169</td>\n",
       "    </tr>\n",
       "    <tr>\n",
       "      <th>861</th>\n",
       "      <td>862</td>\n",
       "      <td>177</td>\n",
       "    </tr>\n",
       "    <tr>\n",
       "      <th>862</th>\n",
       "      <td>863</td>\n",
       "      <td>154</td>\n",
       "    </tr>\n",
       "    <tr>\n",
       "      <th>863</th>\n",
       "      <td>864</td>\n",
       "      <td>156</td>\n",
       "    </tr>\n",
       "  </tbody>\n",
       "</table>\n",
       "<p>864 rows × 2 columns</p>\n",
       "</div>"
      ],
      "text/plain": [
       "    Configuration      \n",
       "                  count\n",
       "0               1   266\n",
       "1               2   254\n",
       "2               3   274\n",
       "3               4   267\n",
       "4               5   248\n",
       "..            ...   ...\n",
       "859           860   165\n",
       "860           861   169\n",
       "861           862   177\n",
       "862           863   154\n",
       "863           864   156\n",
       "\n",
       "[864 rows x 2 columns]"
      ]
     },
     "execution_count": 50,
     "metadata": {},
     "output_type": "execute_result"
    }
   ],
   "source": [
    "y.reset_index()"
   ]
  },
  {
   "cell_type": "code",
   "execution_count": 51,
   "metadata": {},
   "outputs": [],
   "source": [
    "\n",
    "sor=comqt.pivot_table(index=[\"Configuration\",\"Store Postcode\"])\n"
   ]
  },
  {
   "cell_type": "code",
   "execution_count": null,
   "metadata": {},
   "outputs": [],
   "source": []
  },
  {
   "cell_type": "code",
   "execution_count": 52,
   "metadata": {},
   "outputs": [],
   "source": [
    "constore=sor.reset_index()"
   ]
  },
  {
   "cell_type": "code",
   "execution_count": 53,
   "metadata": {},
   "outputs": [
    {
     "data": {
      "image/png": "[encoded data removed]",
      "text/plain": [
       "<Figure size 1800x720 with 1 Axes>"
      ]
     },
     "metadata": {
      "needs_background": "light"
     },
     "output_type": "display_data"
    }
   ],
   "source": [
    "plt.figure(figsize=(25,10))\n",
    "plt.scatter(constore[\"Store Postcode\"],constore[\"Configuration\"],color=\"orange\")\n",
    "plt.xlabel(\"stores\",fontsize=(25))\n",
    "plt.ylabel(\"config\",fontsize=(25))\n",
    "plt.show()"
   ]
  },
  {
   "cell_type": "markdown",
   "metadata": {},
   "source": [
    "#  No, all stores do not sell every configuration, as we can see in above graph there are splits in last which shows that store \"SIP 3AU\"\n",
    "# does not sell some cofigurations."
   ]
  },
  {
   "cell_type": "markdown",
   "metadata": {},
   "source": [
    "# q1"
   ]
  },
  {
   "cell_type": "code",
   "execution_count": 54,
   "metadata": {},
   "outputs": [
    {
     "data": {
      "text/html": [
       "<div>\n",
       "<style scoped>\n",
       "    .dataframe tbody tr th:only-of-type {\n",
       "        vertical-align: middle;\n",
       "    }\n",
       "\n",
       "    .dataframe tbody tr th {\n",
       "        vertical-align: top;\n",
       "    }\n",
       "\n",
       "    .dataframe thead th {\n",
       "        text-align: right;\n",
       "    }\n",
       "</style>\n",
       "<table border=\"1\" class=\"dataframe\">\n",
       "  <thead>\n",
       "    <tr style=\"text-align: right;\">\n",
       "      <th></th>\n",
       "      <th>Date</th>\n",
       "      <th>Configuration</th>\n",
       "      <th>Customer Postcode</th>\n",
       "      <th>Store Postcode</th>\n",
       "      <th>Retail Price</th>\n",
       "      <th>month</th>\n",
       "    </tr>\n",
       "  </thead>\n",
       "  <tbody>\n",
       "    <tr>\n",
       "      <th>0</th>\n",
       "      <td>01-01-2013 00:01</td>\n",
       "      <td>163</td>\n",
       "      <td>EC4V 5BH</td>\n",
       "      <td>SE1 2BN</td>\n",
       "      <td>455.0</td>\n",
       "      <td>1</td>\n",
       "    </tr>\n",
       "    <tr>\n",
       "      <th>1</th>\n",
       "      <td>01-01-2013 00:02</td>\n",
       "      <td>320</td>\n",
       "      <td>SW4 0JL</td>\n",
       "      <td>SW12 9HD</td>\n",
       "      <td>545.0</td>\n",
       "      <td>1</td>\n",
       "    </tr>\n",
       "    <tr>\n",
       "      <th>2</th>\n",
       "      <td>01-01-2013 00:04</td>\n",
       "      <td>23</td>\n",
       "      <td>EC3V 1LR</td>\n",
       "      <td>E2 0RY</td>\n",
       "      <td>515.0</td>\n",
       "      <td>1</td>\n",
       "    </tr>\n",
       "    <tr>\n",
       "      <th>3</th>\n",
       "      <td>01-01-2013 00:04</td>\n",
       "      <td>169</td>\n",
       "      <td>SW1P 3AU</td>\n",
       "      <td>SE1 2BN</td>\n",
       "      <td>395.0</td>\n",
       "      <td>1</td>\n",
       "    </tr>\n",
       "    <tr>\n",
       "      <th>4</th>\n",
       "      <td>01-01-2013 00:06</td>\n",
       "      <td>365</td>\n",
       "      <td>EC4V 4EG</td>\n",
       "      <td>SW1V 4QQ</td>\n",
       "      <td>585.0</td>\n",
       "      <td>1</td>\n",
       "    </tr>\n",
       "    <tr>\n",
       "      <th>...</th>\n",
       "      <td>...</td>\n",
       "      <td>...</td>\n",
       "      <td>...</td>\n",
       "      <td>...</td>\n",
       "      <td>...</td>\n",
       "      <td>...</td>\n",
       "    </tr>\n",
       "    <tr>\n",
       "      <th>114464</th>\n",
       "      <td>12/30/2013 23:55</td>\n",
       "      <td>703</td>\n",
       "      <td>SE1 2UP</td>\n",
       "      <td>SW1P 3AU</td>\n",
       "      <td>535.5</td>\n",
       "      <td>12</td>\n",
       "    </tr>\n",
       "    <tr>\n",
       "      <th>114465</th>\n",
       "      <td>12/30/2013 23:55</td>\n",
       "      <td>731</td>\n",
       "      <td>N13 4JD</td>\n",
       "      <td>N3 1DH</td>\n",
       "      <td>392.0</td>\n",
       "      <td>12</td>\n",
       "    </tr>\n",
       "    <tr>\n",
       "      <th>114466</th>\n",
       "      <td>12/30/2013 23:57</td>\n",
       "      <td>375</td>\n",
       "      <td>SE25 6EF</td>\n",
       "      <td>CR7 8LE</td>\n",
       "      <td>441.0</td>\n",
       "      <td>12</td>\n",
       "    </tr>\n",
       "    <tr>\n",
       "      <th>114467</th>\n",
       "      <td>12/30/2013 23:58</td>\n",
       "      <td>101</td>\n",
       "      <td>SW8 1LA</td>\n",
       "      <td>SW1P 3AU</td>\n",
       "      <td>406.0</td>\n",
       "      <td>12</td>\n",
       "    </tr>\n",
       "    <tr>\n",
       "      <th>114468</th>\n",
       "      <td>12/30/2013 23:58</td>\n",
       "      <td>343</td>\n",
       "      <td>SE16 4QZ</td>\n",
       "      <td>SE8 3JD</td>\n",
       "      <td>530.0</td>\n",
       "      <td>12</td>\n",
       "    </tr>\n",
       "  </tbody>\n",
       "</table>\n",
       "<p>297572 rows × 6 columns</p>\n",
       "</div>"
      ],
      "text/plain": [
       "                    Date  Configuration Customer Postcode Store Postcode  \\\n",
       "0       01-01-2013 00:01            163          EC4V 5BH        SE1 2BN   \n",
       "1       01-01-2013 00:02            320           SW4 0JL       SW12 9HD   \n",
       "2       01-01-2013 00:04             23          EC3V 1LR         E2 0RY   \n",
       "3       01-01-2013 00:04            169          SW1P 3AU        SE1 2BN   \n",
       "4       01-01-2013 00:06            365          EC4V 4EG       SW1V 4QQ   \n",
       "...                  ...            ...               ...            ...   \n",
       "114464  12/30/2013 23:55            703           SE1 2UP       SW1P 3AU   \n",
       "114465  12/30/2013 23:55            731           N13 4JD         N3 1DH   \n",
       "114466  12/30/2013 23:57            375          SE25 6EF        CR7 8LE   \n",
       "114467  12/30/2013 23:58            101           SW8 1LA       SW1P 3AU   \n",
       "114468  12/30/2013 23:58            343          SE16 4QZ        SE8 3JD   \n",
       "\n",
       "        Retail Price  month  \n",
       "0              455.0      1  \n",
       "1              545.0      1  \n",
       "2              515.0      1  \n",
       "3              395.0      1  \n",
       "4              585.0      1  \n",
       "...              ...    ...  \n",
       "114464         535.5     12  \n",
       "114465         392.0     12  \n",
       "114466         441.0     12  \n",
       "114467         406.0     12  \n",
       "114468         530.0     12  \n",
       "\n",
       "[297572 rows x 6 columns]"
      ]
     },
     "execution_count": 54,
     "metadata": {},
     "output_type": "execute_result"
    }
   ],
   "source": [
    "comqt"
   ]
  },
  {
   "cell_type": "code",
   "execution_count": 55,
   "metadata": {},
   "outputs": [
    {
     "data": {
      "text/html": [
       "<div>\n",
       "<style scoped>\n",
       "    .dataframe tbody tr th:only-of-type {\n",
       "        vertical-align: middle;\n",
       "    }\n",
       "\n",
       "    .dataframe tbody tr th {\n",
       "        vertical-align: top;\n",
       "    }\n",
       "\n",
       "    .dataframe thead th {\n",
       "        text-align: right;\n",
       "    }\n",
       "</style>\n",
       "<table border=\"1\" class=\"dataframe\">\n",
       "  <thead>\n",
       "    <tr style=\"text-align: right;\">\n",
       "      <th></th>\n",
       "      <th>Configuration</th>\n",
       "      <th>Screen Size (Inches)</th>\n",
       "      <th>Battery Life (Hours)</th>\n",
       "      <th>RAM (GB)</th>\n",
       "      <th>Processor Speeds (GHz)</th>\n",
       "      <th>Integrated Wireless?</th>\n",
       "      <th>HD Size (GB)</th>\n",
       "      <th>Bundled Applications?</th>\n",
       "      <th>Quarter</th>\n",
       "    </tr>\n",
       "  </thead>\n",
       "  <tbody>\n",
       "    <tr>\n",
       "      <th>0</th>\n",
       "      <td>1</td>\n",
       "      <td>15</td>\n",
       "      <td>4</td>\n",
       "      <td>1</td>\n",
       "      <td>1.5</td>\n",
       "      <td>Yes</td>\n",
       "      <td>40</td>\n",
       "      <td>Yes</td>\n",
       "      <td>1</td>\n",
       "    </tr>\n",
       "    <tr>\n",
       "      <th>1</th>\n",
       "      <td>2</td>\n",
       "      <td>15</td>\n",
       "      <td>4</td>\n",
       "      <td>1</td>\n",
       "      <td>1.5</td>\n",
       "      <td>Yes</td>\n",
       "      <td>40</td>\n",
       "      <td>No</td>\n",
       "      <td>1</td>\n",
       "    </tr>\n",
       "    <tr>\n",
       "      <th>2</th>\n",
       "      <td>3</td>\n",
       "      <td>15</td>\n",
       "      <td>4</td>\n",
       "      <td>1</td>\n",
       "      <td>1.5</td>\n",
       "      <td>Yes</td>\n",
       "      <td>80</td>\n",
       "      <td>Yes</td>\n",
       "      <td>1</td>\n",
       "    </tr>\n",
       "    <tr>\n",
       "      <th>3</th>\n",
       "      <td>4</td>\n",
       "      <td>15</td>\n",
       "      <td>4</td>\n",
       "      <td>1</td>\n",
       "      <td>1.5</td>\n",
       "      <td>Yes</td>\n",
       "      <td>80</td>\n",
       "      <td>No</td>\n",
       "      <td>1</td>\n",
       "    </tr>\n",
       "    <tr>\n",
       "      <th>4</th>\n",
       "      <td>5</td>\n",
       "      <td>15</td>\n",
       "      <td>4</td>\n",
       "      <td>1</td>\n",
       "      <td>1.5</td>\n",
       "      <td>Yes</td>\n",
       "      <td>120</td>\n",
       "      <td>Yes</td>\n",
       "      <td>1</td>\n",
       "    </tr>\n",
       "    <tr>\n",
       "      <th>...</th>\n",
       "      <td>...</td>\n",
       "      <td>...</td>\n",
       "      <td>...</td>\n",
       "      <td>...</td>\n",
       "      <td>...</td>\n",
       "      <td>...</td>\n",
       "      <td>...</td>\n",
       "      <td>...</td>\n",
       "      <td>...</td>\n",
       "    </tr>\n",
       "    <tr>\n",
       "      <th>859</th>\n",
       "      <td>860</td>\n",
       "      <td>17</td>\n",
       "      <td>6</td>\n",
       "      <td>4</td>\n",
       "      <td>2.4</td>\n",
       "      <td>No</td>\n",
       "      <td>80</td>\n",
       "      <td>No</td>\n",
       "      <td>0</td>\n",
       "    </tr>\n",
       "    <tr>\n",
       "      <th>860</th>\n",
       "      <td>861</td>\n",
       "      <td>17</td>\n",
       "      <td>6</td>\n",
       "      <td>4</td>\n",
       "      <td>2.4</td>\n",
       "      <td>No</td>\n",
       "      <td>120</td>\n",
       "      <td>Yes</td>\n",
       "      <td>0</td>\n",
       "    </tr>\n",
       "    <tr>\n",
       "      <th>861</th>\n",
       "      <td>862</td>\n",
       "      <td>17</td>\n",
       "      <td>6</td>\n",
       "      <td>4</td>\n",
       "      <td>2.4</td>\n",
       "      <td>No</td>\n",
       "      <td>120</td>\n",
       "      <td>No</td>\n",
       "      <td>0</td>\n",
       "    </tr>\n",
       "    <tr>\n",
       "      <th>862</th>\n",
       "      <td>863</td>\n",
       "      <td>17</td>\n",
       "      <td>6</td>\n",
       "      <td>4</td>\n",
       "      <td>2.4</td>\n",
       "      <td>No</td>\n",
       "      <td>300</td>\n",
       "      <td>Yes</td>\n",
       "      <td>0</td>\n",
       "    </tr>\n",
       "    <tr>\n",
       "      <th>863</th>\n",
       "      <td>864</td>\n",
       "      <td>17</td>\n",
       "      <td>6</td>\n",
       "      <td>4</td>\n",
       "      <td>2.4</td>\n",
       "      <td>No</td>\n",
       "      <td>300</td>\n",
       "      <td>No</td>\n",
       "      <td>0</td>\n",
       "    </tr>\n",
       "  </tbody>\n",
       "</table>\n",
       "<p>864 rows × 9 columns</p>\n",
       "</div>"
      ],
      "text/plain": [
       "     Configuration  Screen Size (Inches)  Battery Life (Hours)  RAM (GB)  \\\n",
       "0                1                    15                     4         1   \n",
       "1                2                    15                     4         1   \n",
       "2                3                    15                     4         1   \n",
       "3                4                    15                     4         1   \n",
       "4                5                    15                     4         1   \n",
       "..             ...                   ...                   ...       ...   \n",
       "859            860                    17                     6         4   \n",
       "860            861                    17                     6         4   \n",
       "861            862                    17                     6         4   \n",
       "862            863                    17                     6         4   \n",
       "863            864                    17                     6         4   \n",
       "\n",
       "     Processor Speeds (GHz) Integrated Wireless?  HD Size (GB)  \\\n",
       "0                       1.5                  Yes            40   \n",
       "1                       1.5                  Yes            40   \n",
       "2                       1.5                  Yes            80   \n",
       "3                       1.5                  Yes            80   \n",
       "4                       1.5                  Yes           120   \n",
       "..                      ...                  ...           ...   \n",
       "859                     2.4                   No            80   \n",
       "860                     2.4                   No           120   \n",
       "861                     2.4                   No           120   \n",
       "862                     2.4                   No           300   \n",
       "863                     2.4                   No           300   \n",
       "\n",
       "    Bundled Applications?  Quarter  \n",
       "0                     Yes        1  \n",
       "1                      No        1  \n",
       "2                     Yes        1  \n",
       "3                      No        1  \n",
       "4                     Yes        1  \n",
       "..                    ...      ...  \n",
       "859                    No        0  \n",
       "860                   Yes        0  \n",
       "861                    No        0  \n",
       "862                   Yes        0  \n",
       "863                    No        0  \n",
       "\n",
       "[864 rows x 9 columns]"
      ]
     },
     "execution_count": 55,
     "metadata": {},
     "output_type": "execute_result"
    }
   ],
   "source": [
    "lap"
   ]
  },
  {
   "cell_type": "code",
   "execution_count": 56,
   "metadata": {},
   "outputs": [],
   "source": [
    "config_lap=pd.merge(comqt,lap,on=\"Configuration\",how=\"inner\")"
   ]
  },
  {
   "cell_type": "code",
   "execution_count": 57,
   "metadata": {},
   "outputs": [],
   "source": [
    "# details=config_lap.pivot_table(index=[\"Configuration\",\"Retail Price\"],aggfunc=\"sum\")"
   ]
  },
  {
   "cell_type": "code",
   "execution_count": 58,
   "metadata": {},
   "outputs": [],
   "source": [
    "details=config_lap.groupby([\"Configuration\",\"Battery Life (Hours)\",\"HD Size (GB)\",\"Processor Speeds (GHz)\",\"Quarter\",\"RAM (GB)\",\"Screen Size (Inches)\"]).agg({\"Retail Price\":[\"sum\",\"mean\"]})"
   ]
  },
  {
   "cell_type": "code",
   "execution_count": 59,
   "metadata": {},
   "outputs": [],
   "source": [
    "details=details.reset_index()"
   ]
  },
  {
   "cell_type": "code",
   "execution_count": 60,
   "metadata": {},
   "outputs": [
    {
     "data": {
      "text/html": [
       "<div>\n",
       "<style scoped>\n",
       "    .dataframe tbody tr th:only-of-type {\n",
       "        vertical-align: middle;\n",
       "    }\n",
       "\n",
       "    .dataframe tbody tr th {\n",
       "        vertical-align: top;\n",
       "    }\n",
       "\n",
       "    .dataframe thead tr th {\n",
       "        text-align: left;\n",
       "    }\n",
       "</style>\n",
       "<table border=\"1\" class=\"dataframe\">\n",
       "  <thead>\n",
       "    <tr>\n",
       "      <th></th>\n",
       "      <th>Configuration</th>\n",
       "      <th>Battery Life (Hours)</th>\n",
       "      <th>HD Size (GB)</th>\n",
       "      <th>Processor Speeds (GHz)</th>\n",
       "      <th>Quarter</th>\n",
       "      <th>RAM (GB)</th>\n",
       "      <th>Screen Size (Inches)</th>\n",
       "      <th colspan=\"2\" halign=\"left\">Retail Price</th>\n",
       "    </tr>\n",
       "    <tr>\n",
       "      <th></th>\n",
       "      <th></th>\n",
       "      <th></th>\n",
       "      <th></th>\n",
       "      <th></th>\n",
       "      <th></th>\n",
       "      <th></th>\n",
       "      <th></th>\n",
       "      <th>sum</th>\n",
       "      <th>mean</th>\n",
       "    </tr>\n",
       "  </thead>\n",
       "  <tbody>\n",
       "    <tr>\n",
       "      <th>11</th>\n",
       "      <td>12</td>\n",
       "      <td>4</td>\n",
       "      <td>80</td>\n",
       "      <td>1.5</td>\n",
       "      <td>1</td>\n",
       "      <td>1</td>\n",
       "      <td>15</td>\n",
       "      <td>69877.0</td>\n",
       "      <td>299.901288</td>\n",
       "    </tr>\n",
       "  </tbody>\n",
       "</table>\n",
       "</div>"
      ],
      "text/plain": [
       "   Configuration Battery Life (Hours) HD Size (GB) Processor Speeds (GHz)  \\\n",
       "                                                                            \n",
       "11            12                    4           80                    1.5   \n",
       "\n",
       "   Quarter RAM (GB) Screen Size (Inches) Retail Price              \n",
       "                                                  sum        mean  \n",
       "11       1        1                   15      69877.0  299.901288  "
      ]
     },
     "execution_count": 60,
     "metadata": {},
     "output_type": "execute_result"
    }
   ],
   "source": [
    "details[details[\"Configuration\"]==12]"
   ]
  },
  {
   "cell_type": "code",
   "execution_count": 61,
   "metadata": {},
   "outputs": [
    {
     "data": {
      "text/html": [
       "<div>\n",
       "<style scoped>\n",
       "    .dataframe tbody tr th:only-of-type {\n",
       "        vertical-align: middle;\n",
       "    }\n",
       "\n",
       "    .dataframe tbody tr th {\n",
       "        vertical-align: top;\n",
       "    }\n",
       "\n",
       "    .dataframe thead tr th {\n",
       "        text-align: left;\n",
       "    }\n",
       "</style>\n",
       "<table border=\"1\" class=\"dataframe\">\n",
       "  <thead>\n",
       "    <tr>\n",
       "      <th></th>\n",
       "      <th>Configuration</th>\n",
       "      <th>Battery Life (Hours)</th>\n",
       "      <th>HD Size (GB)</th>\n",
       "      <th>Processor Speeds (GHz)</th>\n",
       "      <th>Quarter</th>\n",
       "      <th>RAM (GB)</th>\n",
       "      <th>Screen Size (Inches)</th>\n",
       "      <th colspan=\"2\" halign=\"left\">Retail Price</th>\n",
       "    </tr>\n",
       "    <tr>\n",
       "      <th></th>\n",
       "      <th></th>\n",
       "      <th></th>\n",
       "      <th></th>\n",
       "      <th></th>\n",
       "      <th></th>\n",
       "      <th></th>\n",
       "      <th></th>\n",
       "      <th>sum</th>\n",
       "      <th>mean</th>\n",
       "    </tr>\n",
       "  </thead>\n",
       "  <tbody>\n",
       "    <tr>\n",
       "      <th>0</th>\n",
       "      <td>1</td>\n",
       "      <td>4</td>\n",
       "      <td>40</td>\n",
       "      <td>1.5</td>\n",
       "      <td>1</td>\n",
       "      <td>1</td>\n",
       "      <td>15</td>\n",
       "      <td>88404.5</td>\n",
       "      <td>332.347744</td>\n",
       "    </tr>\n",
       "    <tr>\n",
       "      <th>1</th>\n",
       "      <td>2</td>\n",
       "      <td>4</td>\n",
       "      <td>40</td>\n",
       "      <td>1.5</td>\n",
       "      <td>1</td>\n",
       "      <td>1</td>\n",
       "      <td>15</td>\n",
       "      <td>72387.0</td>\n",
       "      <td>284.988189</td>\n",
       "    </tr>\n",
       "    <tr>\n",
       "      <th>2</th>\n",
       "      <td>3</td>\n",
       "      <td>4</td>\n",
       "      <td>80</td>\n",
       "      <td>1.5</td>\n",
       "      <td>1</td>\n",
       "      <td>1</td>\n",
       "      <td>15</td>\n",
       "      <td>102012.0</td>\n",
       "      <td>372.306569</td>\n",
       "    </tr>\n",
       "    <tr>\n",
       "      <th>3</th>\n",
       "      <td>4</td>\n",
       "      <td>4</td>\n",
       "      <td>80</td>\n",
       "      <td>1.5</td>\n",
       "      <td>1</td>\n",
       "      <td>1</td>\n",
       "      <td>15</td>\n",
       "      <td>86297.0</td>\n",
       "      <td>323.209738</td>\n",
       "    </tr>\n",
       "    <tr>\n",
       "      <th>4</th>\n",
       "      <td>5</td>\n",
       "      <td>4</td>\n",
       "      <td>120</td>\n",
       "      <td>1.5</td>\n",
       "      <td>1</td>\n",
       "      <td>1</td>\n",
       "      <td>15</td>\n",
       "      <td>95552.0</td>\n",
       "      <td>385.290323</td>\n",
       "    </tr>\n",
       "    <tr>\n",
       "      <th>...</th>\n",
       "      <td>...</td>\n",
       "      <td>...</td>\n",
       "      <td>...</td>\n",
       "      <td>...</td>\n",
       "      <td>...</td>\n",
       "      <td>...</td>\n",
       "      <td>...</td>\n",
       "      <td>...</td>\n",
       "      <td>...</td>\n",
       "    </tr>\n",
       "    <tr>\n",
       "      <th>859</th>\n",
       "      <td>860</td>\n",
       "      <td>6</td>\n",
       "      <td>80</td>\n",
       "      <td>2.4</td>\n",
       "      <td>0</td>\n",
       "      <td>4</td>\n",
       "      <td>17</td>\n",
       "      <td>117438.0</td>\n",
       "      <td>711.745455</td>\n",
       "    </tr>\n",
       "    <tr>\n",
       "      <th>860</th>\n",
       "      <td>861</td>\n",
       "      <td>6</td>\n",
       "      <td>120</td>\n",
       "      <td>2.4</td>\n",
       "      <td>0</td>\n",
       "      <td>4</td>\n",
       "      <td>17</td>\n",
       "      <td>131544.0</td>\n",
       "      <td>778.366864</td>\n",
       "    </tr>\n",
       "    <tr>\n",
       "      <th>861</th>\n",
       "      <td>862</td>\n",
       "      <td>6</td>\n",
       "      <td>120</td>\n",
       "      <td>2.4</td>\n",
       "      <td>0</td>\n",
       "      <td>4</td>\n",
       "      <td>17</td>\n",
       "      <td>128364.0</td>\n",
       "      <td>725.220339</td>\n",
       "    </tr>\n",
       "    <tr>\n",
       "      <th>862</th>\n",
       "      <td>863</td>\n",
       "      <td>6</td>\n",
       "      <td>300</td>\n",
       "      <td>2.4</td>\n",
       "      <td>0</td>\n",
       "      <td>4</td>\n",
       "      <td>17</td>\n",
       "      <td>128499.0</td>\n",
       "      <td>834.409091</td>\n",
       "    </tr>\n",
       "    <tr>\n",
       "      <th>863</th>\n",
       "      <td>864</td>\n",
       "      <td>6</td>\n",
       "      <td>300</td>\n",
       "      <td>2.4</td>\n",
       "      <td>0</td>\n",
       "      <td>4</td>\n",
       "      <td>17</td>\n",
       "      <td>123246.0</td>\n",
       "      <td>790.038462</td>\n",
       "    </tr>\n",
       "  </tbody>\n",
       "</table>\n",
       "<p>864 rows × 9 columns</p>\n",
       "</div>"
      ],
      "text/plain": [
       "    Configuration Battery Life (Hours) HD Size (GB) Processor Speeds (GHz)  \\\n",
       "                                                                             \n",
       "0               1                    4           40                    1.5   \n",
       "1               2                    4           40                    1.5   \n",
       "2               3                    4           80                    1.5   \n",
       "3               4                    4           80                    1.5   \n",
       "4               5                    4          120                    1.5   \n",
       "..            ...                  ...          ...                    ...   \n",
       "859           860                    6           80                    2.4   \n",
       "860           861                    6          120                    2.4   \n",
       "861           862                    6          120                    2.4   \n",
       "862           863                    6          300                    2.4   \n",
       "863           864                    6          300                    2.4   \n",
       "\n",
       "    Quarter RAM (GB) Screen Size (Inches) Retail Price              \n",
       "                                                   sum        mean  \n",
       "0         1        1                   15      88404.5  332.347744  \n",
       "1         1        1                   15      72387.0  284.988189  \n",
       "2         1        1                   15     102012.0  372.306569  \n",
       "3         1        1                   15      86297.0  323.209738  \n",
       "4         1        1                   15      95552.0  385.290323  \n",
       "..      ...      ...                  ...          ...         ...  \n",
       "859       0        4                   17     117438.0  711.745455  \n",
       "860       0        4                   17     131544.0  778.366864  \n",
       "861       0        4                   17     128364.0  725.220339  \n",
       "862       0        4                   17     128499.0  834.409091  \n",
       "863       0        4                   17     123246.0  790.038462  \n",
       "\n",
       "[864 rows x 9 columns]"
      ]
     },
     "execution_count": 61,
     "metadata": {},
     "output_type": "execute_result"
    }
   ],
   "source": [
    "details"
   ]
  },
  {
   "cell_type": "code",
   "execution_count": null,
   "metadata": {},
   "outputs": [],
   "source": []
  },
  {
   "cell_type": "code",
   "execution_count": null,
   "metadata": {},
   "outputs": [],
   "source": []
  },
  {
   "cell_type": "code",
   "execution_count": null,
   "metadata": {},
   "outputs": [],
   "source": []
  },
  {
   "cell_type": "code",
   "execution_count": null,
   "metadata": {},
   "outputs": [],
   "source": []
  },
  {
   "cell_type": "code",
   "execution_count": null,
   "metadata": {},
   "outputs": [],
   "source": []
  },
  {
   "cell_type": "code",
   "execution_count": null,
   "metadata": {},
   "outputs": [],
   "source": []
  },
  {
   "cell_type": "code",
   "execution_count": null,
   "metadata": {},
   "outputs": [],
   "source": []
  },
  {
   "cell_type": "code",
   "execution_count": null,
   "metadata": {},
   "outputs": [],
   "source": []
  },
  {
   "cell_type": "code",
   "execution_count": null,
   "metadata": {},
   "outputs": [],
   "source": []
  },
  {
   "cell_type": "code",
   "execution_count": null,
   "metadata": {},
   "outputs": [],
   "source": []
  },
  {
   "cell_type": "code",
   "execution_count": 62,
   "metadata": {},
   "outputs": [
    {
     "data": {
      "text/plain": [
       "['.ipynb_checkpoints',\n",
       " 'comqt.csv',\n",
       " 'con_lap.csv',\n",
       " 'entire_data.csv',\n",
       " 'Laptop.csv',\n",
       " 'Laptops.csv',\n",
       " 'London_postal_codes.csv',\n",
       " 'Master Case Study-2.pdf',\n",
       " 'pos comb.csv',\n",
       " 'POS_Q1 (Autosaved).csv',\n",
       " 'POS_Q1.csv',\n",
       " 'POS_Q2.csv',\n",
       " 'POS_Q3.csv',\n",
       " 'POS_Q4.csv',\n",
       " 'quters',\n",
       " 'solution.ipynb',\n",
       " 'Store_Locations.csv']"
      ]
     },
     "execution_count": 62,
     "metadata": {},
     "output_type": "execute_result"
    }
   ],
   "source": [
    "os.listdir()"
   ]
  },
  {
   "cell_type": "code",
   "execution_count": 63,
   "metadata": {},
   "outputs": [
    {
     "name": "stderr",
     "output_type": "stream",
     "text": [
      "F:\\conda\\lib\\site-packages\\IPython\\core\\interactiveshell.py:3063: DtypeWarning: Columns (14) have mixed types.Specify dtype option on import or set low_memory=False.\n",
      "  interactivity=interactivity, compiler=compiler, result=result)\n"
     ]
    }
   ],
   "source": [
    "config_laptop=pd.read_csv(r'con_lap.csv')"
   ]
  },
  {
   "cell_type": "code",
   "execution_count": 64,
   "metadata": {},
   "outputs": [],
   "source": [
    "uniq=config_laptop.groupby(\"unique_id\").count()"
   ]
  },
  {
   "cell_type": "code",
   "execution_count": 65,
   "metadata": {},
   "outputs": [],
   "source": [
    "uniq=uniq.reset_index()"
   ]
  },
  {
   "cell_type": "code",
   "execution_count": 66,
   "metadata": {},
   "outputs": [],
   "source": [
    "# config_laptop"
   ]
  },
  {
   "cell_type": "markdown",
   "metadata": {},
   "source": [
    "# question Revenue"
   ]
  },
  {
   "cell_type": "markdown",
   "metadata": {},
   "source": [
    "### A"
   ]
  },
  {
   "cell_type": "code",
   "execution_count": 67,
   "metadata": {},
   "outputs": [
    {
     "data": {
      "text/html": [
       "<div>\n",
       "<style scoped>\n",
       "    .dataframe tbody tr th:only-of-type {\n",
       "        vertical-align: middle;\n",
       "    }\n",
       "\n",
       "    .dataframe tbody tr th {\n",
       "        vertical-align: top;\n",
       "    }\n",
       "\n",
       "    .dataframe thead th {\n",
       "        text-align: right;\n",
       "    }\n",
       "</style>\n",
       "<table border=\"1\" class=\"dataframe\">\n",
       "  <thead>\n",
       "    <tr style=\"text-align: right;\">\n",
       "      <th></th>\n",
       "      <th>Date</th>\n",
       "      <th>Configuration</th>\n",
       "      <th>Customer Postcode</th>\n",
       "      <th>Store Postcode</th>\n",
       "      <th>Retail Price</th>\n",
       "      <th>month</th>\n",
       "    </tr>\n",
       "  </thead>\n",
       "  <tbody>\n",
       "    <tr>\n",
       "      <th>0</th>\n",
       "      <td>01-01-2013 00:01</td>\n",
       "      <td>163</td>\n",
       "      <td>EC4V 5BH</td>\n",
       "      <td>SE1 2BN</td>\n",
       "      <td>455.0</td>\n",
       "      <td>1</td>\n",
       "    </tr>\n",
       "    <tr>\n",
       "      <th>1</th>\n",
       "      <td>01-01-2013 00:02</td>\n",
       "      <td>320</td>\n",
       "      <td>SW4 0JL</td>\n",
       "      <td>SW12 9HD</td>\n",
       "      <td>545.0</td>\n",
       "      <td>1</td>\n",
       "    </tr>\n",
       "    <tr>\n",
       "      <th>2</th>\n",
       "      <td>01-01-2013 00:04</td>\n",
       "      <td>23</td>\n",
       "      <td>EC3V 1LR</td>\n",
       "      <td>E2 0RY</td>\n",
       "      <td>515.0</td>\n",
       "      <td>1</td>\n",
       "    </tr>\n",
       "    <tr>\n",
       "      <th>3</th>\n",
       "      <td>01-01-2013 00:04</td>\n",
       "      <td>169</td>\n",
       "      <td>SW1P 3AU</td>\n",
       "      <td>SE1 2BN</td>\n",
       "      <td>395.0</td>\n",
       "      <td>1</td>\n",
       "    </tr>\n",
       "    <tr>\n",
       "      <th>4</th>\n",
       "      <td>01-01-2013 00:06</td>\n",
       "      <td>365</td>\n",
       "      <td>EC4V 4EG</td>\n",
       "      <td>SW1V 4QQ</td>\n",
       "      <td>585.0</td>\n",
       "      <td>1</td>\n",
       "    </tr>\n",
       "    <tr>\n",
       "      <th>...</th>\n",
       "      <td>...</td>\n",
       "      <td>...</td>\n",
       "      <td>...</td>\n",
       "      <td>...</td>\n",
       "      <td>...</td>\n",
       "      <td>...</td>\n",
       "    </tr>\n",
       "    <tr>\n",
       "      <th>114464</th>\n",
       "      <td>12/30/2013 23:55</td>\n",
       "      <td>703</td>\n",
       "      <td>SE1 2UP</td>\n",
       "      <td>SW1P 3AU</td>\n",
       "      <td>535.5</td>\n",
       "      <td>12</td>\n",
       "    </tr>\n",
       "    <tr>\n",
       "      <th>114465</th>\n",
       "      <td>12/30/2013 23:55</td>\n",
       "      <td>731</td>\n",
       "      <td>N13 4JD</td>\n",
       "      <td>N3 1DH</td>\n",
       "      <td>392.0</td>\n",
       "      <td>12</td>\n",
       "    </tr>\n",
       "    <tr>\n",
       "      <th>114466</th>\n",
       "      <td>12/30/2013 23:57</td>\n",
       "      <td>375</td>\n",
       "      <td>SE25 6EF</td>\n",
       "      <td>CR7 8LE</td>\n",
       "      <td>441.0</td>\n",
       "      <td>12</td>\n",
       "    </tr>\n",
       "    <tr>\n",
       "      <th>114467</th>\n",
       "      <td>12/30/2013 23:58</td>\n",
       "      <td>101</td>\n",
       "      <td>SW8 1LA</td>\n",
       "      <td>SW1P 3AU</td>\n",
       "      <td>406.0</td>\n",
       "      <td>12</td>\n",
       "    </tr>\n",
       "    <tr>\n",
       "      <th>114468</th>\n",
       "      <td>12/30/2013 23:58</td>\n",
       "      <td>343</td>\n",
       "      <td>SE16 4QZ</td>\n",
       "      <td>SE8 3JD</td>\n",
       "      <td>530.0</td>\n",
       "      <td>12</td>\n",
       "    </tr>\n",
       "  </tbody>\n",
       "</table>\n",
       "<p>297572 rows × 6 columns</p>\n",
       "</div>"
      ],
      "text/plain": [
       "                    Date  Configuration Customer Postcode Store Postcode  \\\n",
       "0       01-01-2013 00:01            163          EC4V 5BH        SE1 2BN   \n",
       "1       01-01-2013 00:02            320           SW4 0JL       SW12 9HD   \n",
       "2       01-01-2013 00:04             23          EC3V 1LR         E2 0RY   \n",
       "3       01-01-2013 00:04            169          SW1P 3AU        SE1 2BN   \n",
       "4       01-01-2013 00:06            365          EC4V 4EG       SW1V 4QQ   \n",
       "...                  ...            ...               ...            ...   \n",
       "114464  12/30/2013 23:55            703           SE1 2UP       SW1P 3AU   \n",
       "114465  12/30/2013 23:55            731           N13 4JD         N3 1DH   \n",
       "114466  12/30/2013 23:57            375          SE25 6EF        CR7 8LE   \n",
       "114467  12/30/2013 23:58            101           SW8 1LA       SW1P 3AU   \n",
       "114468  12/30/2013 23:58            343          SE16 4QZ        SE8 3JD   \n",
       "\n",
       "        Retail Price  month  \n",
       "0              455.0      1  \n",
       "1              545.0      1  \n",
       "2              515.0      1  \n",
       "3              395.0      1  \n",
       "4              585.0      1  \n",
       "...              ...    ...  \n",
       "114464         535.5     12  \n",
       "114465         392.0     12  \n",
       "114466         441.0     12  \n",
       "114467         406.0     12  \n",
       "114468         530.0     12  \n",
       "\n",
       "[297572 rows x 6 columns]"
      ]
     },
     "execution_count": 67,
     "metadata": {},
     "output_type": "execute_result"
    }
   ],
   "source": [
    "comqt"
   ]
  },
  {
   "cell_type": "code",
   "execution_count": 68,
   "metadata": {},
   "outputs": [],
   "source": [
    "revenue=comqt.groupby([\"Store Postcode\"]).agg({\"Configuration\":[\"count\"],\"Retail Price\":[\"sum\"]}).reset_index()"
   ]
  },
  {
   "cell_type": "code",
   "execution_count": 69,
   "metadata": {},
   "outputs": [
    {
     "data": {
      "text/html": [
       "<div>\n",
       "<style scoped>\n",
       "    .dataframe tbody tr th:only-of-type {\n",
       "        vertical-align: middle;\n",
       "    }\n",
       "\n",
       "    .dataframe tbody tr th {\n",
       "        vertical-align: top;\n",
       "    }\n",
       "\n",
       "    .dataframe thead tr th {\n",
       "        text-align: left;\n",
       "    }\n",
       "</style>\n",
       "<table border=\"1\" class=\"dataframe\">\n",
       "  <thead>\n",
       "    <tr>\n",
       "      <th></th>\n",
       "      <th>Store Postcode</th>\n",
       "      <th>Configuration</th>\n",
       "      <th>Retail Price</th>\n",
       "    </tr>\n",
       "    <tr>\n",
       "      <th></th>\n",
       "      <th></th>\n",
       "      <th>count</th>\n",
       "      <th>sum</th>\n",
       "    </tr>\n",
       "  </thead>\n",
       "  <tbody>\n",
       "    <tr>\n",
       "      <th>0</th>\n",
       "      <td>CR7 8LE</td>\n",
       "      <td>7837</td>\n",
       "      <td>3561172.5</td>\n",
       "    </tr>\n",
       "    <tr>\n",
       "      <th>1</th>\n",
       "      <td>E2 0RY</td>\n",
       "      <td>30707</td>\n",
       "      <td>15972845.0</td>\n",
       "    </tr>\n",
       "    <tr>\n",
       "      <th>2</th>\n",
       "      <td>E7 8NW</td>\n",
       "      <td>3796</td>\n",
       "      <td>1705393.0</td>\n",
       "    </tr>\n",
       "    <tr>\n",
       "      <th>3</th>\n",
       "      <td>KT2 5AU</td>\n",
       "      <td>4337</td>\n",
       "      <td>2261810.0</td>\n",
       "    </tr>\n",
       "    <tr>\n",
       "      <th>4</th>\n",
       "      <td>N17 6QA</td>\n",
       "      <td>4743</td>\n",
       "      <td>2480320.0</td>\n",
       "    </tr>\n",
       "    <tr>\n",
       "      <th>5</th>\n",
       "      <td>N3 1DH</td>\n",
       "      <td>3011</td>\n",
       "      <td>1363559.5</td>\n",
       "    </tr>\n",
       "    <tr>\n",
       "      <th>6</th>\n",
       "      <td>NW5 2QH</td>\n",
       "      <td>31405</td>\n",
       "      <td>16364055.0</td>\n",
       "    </tr>\n",
       "    <tr>\n",
       "      <th>7</th>\n",
       "      <td>S1P 3AU</td>\n",
       "      <td>148</td>\n",
       "      <td>75236.0</td>\n",
       "    </tr>\n",
       "    <tr>\n",
       "      <th>8</th>\n",
       "      <td>SE1 2BN</td>\n",
       "      <td>44656</td>\n",
       "      <td>23220815.0</td>\n",
       "    </tr>\n",
       "    <tr>\n",
       "      <th>9</th>\n",
       "      <td>SE8 3JD</td>\n",
       "      <td>16595</td>\n",
       "      <td>8640605.0</td>\n",
       "    </tr>\n",
       "    <tr>\n",
       "      <th>10</th>\n",
       "      <td>SW12 9HD</td>\n",
       "      <td>12684</td>\n",
       "      <td>6611185.0</td>\n",
       "    </tr>\n",
       "    <tr>\n",
       "      <th>11</th>\n",
       "      <td>SW18 1NN</td>\n",
       "      <td>14076</td>\n",
       "      <td>7324210.0</td>\n",
       "    </tr>\n",
       "    <tr>\n",
       "      <th>12</th>\n",
       "      <td>SW1P 3AU</td>\n",
       "      <td>61831</td>\n",
       "      <td>27972553.5</td>\n",
       "    </tr>\n",
       "    <tr>\n",
       "      <th>13</th>\n",
       "      <td>SW1V 4QQ</td>\n",
       "      <td>43472</td>\n",
       "      <td>22618985.0</td>\n",
       "    </tr>\n",
       "    <tr>\n",
       "      <th>14</th>\n",
       "      <td>W10 6HQ</td>\n",
       "      <td>11733</td>\n",
       "      <td>6101710.0</td>\n",
       "    </tr>\n",
       "    <tr>\n",
       "      <th>15</th>\n",
       "      <td>W4 3PH</td>\n",
       "      <td>6541</td>\n",
       "      <td>2957626.0</td>\n",
       "    </tr>\n",
       "  </tbody>\n",
       "</table>\n",
       "</div>"
      ],
      "text/plain": [
       "   Store Postcode Configuration Retail Price\n",
       "                          count          sum\n",
       "0         CR7 8LE          7837    3561172.5\n",
       "1          E2 0RY         30707   15972845.0\n",
       "2          E7 8NW          3796    1705393.0\n",
       "3         KT2 5AU          4337    2261810.0\n",
       "4         N17 6QA          4743    2480320.0\n",
       "5          N3 1DH          3011    1363559.5\n",
       "6         NW5 2QH         31405   16364055.0\n",
       "7         S1P 3AU           148      75236.0\n",
       "8         SE1 2BN         44656   23220815.0\n",
       "9         SE8 3JD         16595    8640605.0\n",
       "10       SW12 9HD         12684    6611185.0\n",
       "11       SW18 1NN         14076    7324210.0\n",
       "12       SW1P 3AU         61831   27972553.5\n",
       "13       SW1V 4QQ         43472   22618985.0\n",
       "14        W10 6HQ         11733    6101710.0\n",
       "15         W4 3PH          6541    2957626.0"
      ]
     },
     "execution_count": 69,
     "metadata": {},
     "output_type": "execute_result"
    }
   ],
   "source": [
    "revenue"
   ]
  },
  {
   "cell_type": "code",
   "execution_count": 70,
   "metadata": {},
   "outputs": [],
   "source": [
    "# plt.figure(figsize=(15,10))\n",
    "# plt.scatter(revenue[\"Configuration\"],revenue[\"Retail Price\"])\n",
    "# plt.xlabel(\"config\")\n",
    "# plt.ylabel(\"price in lakh\")\n",
    "# plt.legend()\n",
    "# plt.show()"
   ]
  },
  {
   "cell_type": "code",
   "execution_count": 71,
   "metadata": {},
   "outputs": [],
   "source": [
    "# plt.plot(revenue[\"Configuration\"],revenue[\"Retail Price\"], label = \"line 1\",color=\"red\")\n",
    "# plt.plot(revenue[\"Configuration\"],revenue[\"Retail Price\"], label = \"line 2\",color=\"yellow\")\n",
    "# plt.legend()\n",
    "# plt.show()"
   ]
  },
  {
   "cell_type": "code",
   "execution_count": 72,
   "metadata": {},
   "outputs": [
    {
     "data": {
      "image/png": "[encoded data removed]",
      "text/plain": [
       "<Figure size 432x288 with 1 Axes>"
      ]
     },
     "metadata": {
      "needs_background": "light"
     },
     "output_type": "display_data"
    }
   ],
   "source": [
    "plt.plot(revenue[\"Retail Price\"])\n",
    "plt.show()"
   ]
  },
  {
   "cell_type": "code",
   "execution_count": 73,
   "metadata": {},
   "outputs": [
    {
     "data": {
      "image/png": "[encoded data removed]",
      "text/plain": [
       "<Figure size 432x288 with 1 Axes>"
      ]
     },
     "metadata": {
      "needs_background": "light"
     },
     "output_type": "display_data"
    }
   ],
   "source": [
    "plt.plot(revenue[\"Configuration\"])\n",
    "plt.show()"
   ]
  },
  {
   "cell_type": "code",
   "execution_count": 74,
   "metadata": {},
   "outputs": [],
   "source": [
    "x =revenue[\"Store Postcode\"]\n",
    "y1 = revenue[\"Configuration\"]\n",
    "y2 = revenue[\"Retail Price\"]\n"
   ]
  },
  {
   "cell_type": "code",
   "execution_count": 75,
   "metadata": {},
   "outputs": [
    {
     "data": {
      "image/png": "[encoded data removed]",
      "text/plain": [
       "<Figure size 1080x720 with 2 Axes>"
      ]
     },
     "metadata": {
      "needs_background": "light"
     },
     "output_type": "display_data"
    }
   ],
   "source": [
    "fig,ax = plt.subplots(figsize=(15,10))\n",
    "\n",
    "ax.plot(x, y1, color=\"blue\", marker=\"D\")\n",
    "\n",
    "ax.set_xlabel(\"Store Postcode\",fontsize=14)\n",
    "\n",
    "ax.set_ylabel(\"Sale Volume\",color=\"blue\",fontsize=14)\n",
    "\n",
    "\n",
    "\n",
    "ax2=ax.twinx()\n",
    "ax2.plot(x, y2,color=\"green\",marker=\"D\",label=(\"revenue\"))\n",
    "ax2.set_ylabel(\"Revenue\",color=\"green\",fontsize=14)\n",
    "\n",
    "plt.show()\n",
    "\n"
   ]
  },
  {
   "cell_type": "markdown",
   "metadata": {},
   "source": [
    "## sales volume and revenue both are complemantary , both variables have a positive relation."
   ]
  },
  {
   "cell_type": "markdown",
   "metadata": {},
   "source": [
    "## B\n"
   ]
  },
  {
   "cell_type": "markdown",
   "metadata": {},
   "source": [
    "### from the graph in part(a) we can determine that totlal count of each configuration sold  at every store gives the sales volume , we can say that configuration is positivily related to the sales revenue ,it effects positively."
   ]
  },
  {
   "cell_type": "code",
   "execution_count": null,
   "metadata": {},
   "outputs": [],
   "source": []
  }
 ],
 "metadata": {
  "kernelspec": {
   "display_name": "Python 3",
   "language": "python",
   "name": "python3"
  },
  "language_info": {
   "codemirror_mode": {
    "name": "ipython",
    "version": 3
   },
   "file_extension": ".py",
   "mimetype": "text/x-python",
   "name": "python",
   "nbconvert_exporter": "python",
   "pygments_lexer": "ipython3",
   "version": "3.8.8"
  }
 },
 "nbformat": 4,
 "nbformat_minor": 4
}
